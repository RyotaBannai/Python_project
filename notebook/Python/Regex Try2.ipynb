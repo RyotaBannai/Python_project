{
 "cells": [
  {
   "cell_type": "code",
   "execution_count": 1,
   "metadata": {},
   "outputs": [],
   "source": [
    "import pandas as pd\n",
    "import numpy as np \n",
    "import re"
   ]
  },
  {
   "cell_type": "code",
   "execution_count": 36,
   "metadata": {},
   "outputs": [],
   "source": [
    "st = 'LK38L-00146　～　LK38L-30050JNCLSC0A8GU000195　～　JNCLSC0AXGU000456'\n",
    "s_ = 'WBAAM32040FP00010 ~ '\n",
    "s = 'WBAAM32040FP00010 ~ WBAAM32020FP06789'\n",
    "ss = 'WBAAM32040FP00010 ~ WBAAM32020FP06789WBAAM31090FM80400 ~ WBAAM310X0FM82026'\n",
    "sl = 'WBAAM32040FP00010 ~ WBAAM32020FP06789WBAAM31090FM80400 ~ WBAAM310X0FM82026WBAAM31020JE91304 ~ WBAAM31010JE95554 EEFN23423'"
   ]
  },
  {
   "cell_type": "code",
   "execution_count": 38,
   "metadata": {},
   "outputs": [
    {
     "data": {
      "text/plain": [
       "'LK38L-00146\\u3000～\\u3000LK38L-30050JNCLSC0A8GU000195\\u3000～\\u3000JNCLSC0AXGU000456'"
      ]
     },
     "execution_count": 38,
     "metadata": {},
     "output_type": "execute_result"
    }
   ],
   "source": [
    "m = re.compile(r'([A-Z-0-9]*\\s～\\s[A-Z-0-9]*\\s?(～\\s[A-Z-0-9]*\\s?)*|[A-Z-0-9]*\\s～\\s?)')\n",
    "m.search(st).group()"
   ]
  },
  {
   "cell_type": "code",
   "execution_count": null,
   "metadata": {},
   "outputs": [],
   "source": [
    "#一回全角空白を半角にする\n",
    "#少なくとも〜は~にする"
   ]
  },
  {
   "cell_type": "code",
   "execution_count": 35,
   "metadata": {},
   "outputs": [],
   "source": [
    "t = \"三菱\\n              2PG-FK61N\\n              ふそうファイター\\n              \\t\\t\\t\\tFK61N-600024　～　FK61N-600066\\n \""
   ]
  },
  {
   "cell_type": "code",
   "execution_count": null,
   "metadata": {},
   "outputs": [],
   "source": [
    "m = re.compile(r'([A-Z-0-9]*\\s~\\s[A-Z-0-9]*\\s?(~\\s[A-Z-0-9]*\\s?)*|[A-Z-0-9]*\\s~\\s?)')\n",
    "m.search(sl).group()"
   ]
  }
 ],
 "metadata": {
  "kernelspec": {
   "display_name": "Python 3",
   "language": "python",
   "name": "python3"
  },
  "language_info": {
   "codemirror_mode": {
    "name": "ipython",
    "version": 3
   },
   "file_extension": ".py",
   "mimetype": "text/x-python",
   "name": "python",
   "nbconvert_exporter": "python",
   "pygments_lexer": "ipython3",
   "version": "3.7.4"
  }
 },
 "nbformat": 4,
 "nbformat_minor": 2
}
