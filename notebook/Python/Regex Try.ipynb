{
 "cells": [
  {
   "cell_type": "code",
   "execution_count": 69,
   "metadata": {},
   "outputs": [],
   "source": [
    "import re\n",
    "from collections import defaultdict"
   ]
  },
  {
   "cell_type": "code",
   "execution_count": 190,
   "metadata": {},
   "outputs": [],
   "source": [
    "normals = 'TRH200-0207441 ～ TRH200-0294277'\n",
    "s = 'トヨタ CBF-TRH200V ハイエース TRH200-0207441 ～ TRH200-0294277TRH200-5022655 ～ TRH200-5037767 CBF-TRH200K \\\n",
    "ハイエース TRH200-0207441 ～ TRH200-0294277 CBF-TRH200K改 ハイエース TRH200-0207441 ～ '"
   ]
  },
  {
   "cell_type": "code",
   "execution_count": 199,
   "metadata": {},
   "outputs": [
    {
     "data": {
      "text/plain": [
       "'TRH200-0207441 ～ TRH200-0294277TRH200-5022655 ～ TRH200-5037767 '"
      ]
     },
     "execution_count": 199,
     "metadata": {},
     "output_type": "execute_result"
    }
   ],
   "source": [
    "m = re.compile(r'[A-Z-0-9]*\\s[～]\\s[A-Z-0-9]*\\s?([～]\\s[A-Z-0-9]*)?\\s?')\n",
    "m.search(s).group()"
   ]
  },
  {
   "cell_type": "code",
   "execution_count": 200,
   "metadata": {},
   "outputs": [
    {
     "data": {
      "text/plain": [
       "'トヨタ'"
      ]
     },
     "execution_count": 200,
     "metadata": {},
     "output_type": "execute_result"
    }
   ],
   "source": [
    "car_model = s.split()[0]; car_model"
   ]
  },
  {
   "cell_type": "code",
   "execution_count": 201,
   "metadata": {},
   "outputs": [],
   "source": [
    "dd = defaultdict(list)\n",
    "first = len(car_model) + 1 #for white space\n",
    "for x in m.finditer(s):\n",
    "    details = s[first: x.start()]\n",
    "    words = details.split() # 流石に車種名は一つだと願いたい.\n",
    "    dd[car_model].append([words[0], details[len(words[0]):].strip(), x.group().strip()])\n",
    "    first = x.end()"
   ]
  },
  {
   "cell_type": "code",
   "execution_count": 202,
   "metadata": {},
   "outputs": [
    {
     "data": {
      "text/plain": [
       "{'トヨタ': [['CBF-TRH200V',\n",
       "   'ハイエース',\n",
       "   'TRH200-0207441 ～ TRH200-0294277TRH200-5022655 ～ TRH200-5037767'],\n",
       "  ['CBF-TRH200K', 'ハイエース', 'TRH200-0207441 ～ TRH200-0294277'],\n",
       "  ['CBF-TRH200K改', 'ハイエース', 'TRH200-0207441 ～']]}"
      ]
     },
     "execution_count": 202,
     "metadata": {},
     "output_type": "execute_result"
    }
   ],
   "source": [
    "dict(dd)"
   ]
  },
  {
   "cell_type": "code",
   "execution_count": 203,
   "metadata": {},
   "outputs": [],
   "source": [
    "#connected_items = 'TRH200-0207441 ～ TRH200-0294277TRH200-5022655 ～ TRH200-5037767'"
   ]
  },
  {
   "cell_type": "code",
   "execution_count": 204,
   "metadata": {},
   "outputs": [],
   "source": [
    "d = dict(dd)\n",
    "for x in d.values():\n",
    "    x_copy = x.copy()\n",
    "    for n, y in enumerate(x):\n",
    "        #車種名、シリアル番号名があるコラムは文字列が連結しているので、分割.\n",
    "        remove_tilda = re.sub(r'\\s～\\s',' ', y[2])\n",
    "        splited = remove_tilda.split()\n",
    "        l0 = len(splited[0])\n",
    "        l1 = len(splited[1])\n",
    "        if l0 != l1 and (l0>1 and l1>1): #たまに後ろのシリアルがない時がある\n",
    "            x_copy[n] = [x[n][0], x[n][1], splited[0] +' 〜 '+ remove_tilda[l0+1: l0*2+1]]\n",
    "            x_copy.insert(n+1, [x[n][0], x[n][1], remove_tilda[l0+1 + l0*2+1:] +' 〜 '+ splited[2]])"
   ]
  },
  {
   "cell_type": "code",
   "execution_count": 205,
   "metadata": {},
   "outputs": [
    {
     "data": {
      "text/plain": [
       "[['CBF-TRH200V', 'ハイエース', 'TRH200-0207441 〜 TRH200-0294277'],\n",
       " ['CBF-TRH200V', 'ハイエース', 'TRH200-5037767 〜 TRH200-5037767'],\n",
       " ['CBF-TRH200K', 'ハイエース', 'TRH200-0207441 ～ TRH200-0294277'],\n",
       " ['CBF-TRH200K改', 'ハイエース', 'TRH200-0207441 ～']]"
      ]
     },
     "execution_count": 205,
     "metadata": {},
     "output_type": "execute_result"
    }
   ],
   "source": [
    "x_copy"
   ]
  },
  {
   "cell_type": "code",
   "execution_count": 206,
   "metadata": {},
   "outputs": [
    {
     "data": {
      "text/plain": [
       "[['CBF-TRH200V',\n",
       "  'ハイエース',\n",
       "  'TRH200-0207441 ～ TRH200-0294277TRH200-5022655 ～ TRH200-5037767'],\n",
       " ['CBF-TRH200K', 'ハイエース', 'TRH200-0207441 ～ TRH200-0294277'],\n",
       " ['CBF-TRH200K改', 'ハイエース', 'TRH200-0207441 ～']]"
      ]
     },
     "execution_count": 206,
     "metadata": {},
     "output_type": "execute_result"
    }
   ],
   "source": [
    "x"
   ]
  },
  {
   "cell_type": "code",
   "execution_count": 209,
   "metadata": {},
   "outputs": [
    {
     "data": {
      "text/plain": [
       "{'car_model': [['CBF-TRH200V', 'ハイエース', 'TRH200-0207441 〜 TRH200-0294277'],\n",
       "  ['CBF-TRH200V', 'ハイエース', 'TRH200-5037767 〜 TRH200-5037767'],\n",
       "  ['CBF-TRH200K', 'ハイエース', 'TRH200-0207441 ～ TRH200-0294277'],\n",
       "  ['CBF-TRH200K改', 'ハイエース', 'TRH200-0207441 ～']]}"
      ]
     },
     "execution_count": 209,
     "metadata": {},
     "output_type": "execute_result"
    }
   ],
   "source": [
    "dict(car_model=x_copy)"
   ]
  },
  {
   "cell_type": "code",
   "execution_count": 210,
   "metadata": {},
   "outputs": [
    {
     "data": {
      "text/plain": [
       "{'トヨタ': [['CBF-TRH200V', 'ハイエース', 'TRH200-0207441 〜 TRH200-0294277'],\n",
       "  ['CBF-TRH200V', 'ハイエース', 'TRH200-5037767 〜 TRH200-5037767'],\n",
       "  ['CBF-TRH200K', 'ハイエース', 'TRH200-0207441 ～ TRH200-0294277'],\n",
       "  ['CBF-TRH200K改', 'ハイエース', 'TRH200-0207441 ～']]}"
      ]
     },
     "execution_count": 210,
     "metadata": {},
     "output_type": "execute_result"
    }
   ],
   "source": [
    "dict({car_model:x_copy})"
   ]
  },
  {
   "cell_type": "code",
   "execution_count": null,
   "metadata": {},
   "outputs": [],
   "source": []
  },
  {
   "cell_type": "code",
   "execution_count": 143,
   "metadata": {},
   "outputs": [
    {
     "data": {
      "text/plain": [
       "'TRH200-0207441 TRH200-0294277TRH200-5022655 TRH200-5037767'"
      ]
     },
     "execution_count": 143,
     "metadata": {},
     "output_type": "execute_result"
    }
   ],
   "source": [
    "remove_tilda"
   ]
  },
  {
   "cell_type": "code",
   "execution_count": 144,
   "metadata": {},
   "outputs": [
    {
     "data": {
      "text/plain": [
       "'エース TRH200-0207441 ～ TRH200-0294277TRH200-5022655 ～ TRH200-5037'"
      ]
     },
     "execution_count": 144,
     "metadata": {},
     "output_type": "execute_result"
    }
   ],
   "source": [
    "s[18:81]"
   ]
  },
  {
   "cell_type": "code",
   "execution_count": 148,
   "metadata": {},
   "outputs": [],
   "source": [
    "l = [[1,2],[3,4]]"
   ]
  },
  {
   "cell_type": "code",
   "execution_count": 149,
   "metadata": {},
   "outputs": [],
   "source": [
    "l.insert(1,[5,6])"
   ]
  },
  {
   "cell_type": "code",
   "execution_count": 150,
   "metadata": {},
   "outputs": [
    {
     "data": {
      "text/plain": [
       "[[1, 2], [5, 6], [3, 4]]"
      ]
     },
     "execution_count": 150,
     "metadata": {},
     "output_type": "execute_result"
    }
   ],
   "source": [
    "l"
   ]
  },
  {
   "cell_type": "code",
   "execution_count": 173,
   "metadata": {},
   "outputs": [
    {
     "name": "stdout",
     "output_type": "stream",
     "text": [
      "[['CBF-TRH200V', 'ハイエース', 'TRH200-0207441 ～ TRH200-0294277TRH200-5022655 ～ TRH200-5037767'], ['CBF-TRH200K', 'ハイエース', 'TRH200-0207441 ～ TRH200-0294277'], ['CBF-TRH200K改', 'ハイエース', 'TRH200-0207441 ～']]\n",
      "['CBF-TRH200V', 'ハイエース', 'TRH200-0207441 ～ TRH200-0294277TRH200-5022655 ～ TRH200-5037767']\n",
      "['CBF-TRH200K', 'ハイエース', 'TRH200-0207441 ～ TRH200-0294277']\n",
      "['CBF-TRH200K改', 'ハイエース', 'TRH200-0207441 ～']\n"
     ]
    }
   ],
   "source": [
    "d = dict(dd)\n",
    "for x in d.values():\n",
    "    print(x)\n",
    "    for y in x:\n",
    "        print(y)"
   ]
  },
  {
   "cell_type": "code",
   "execution_count": null,
   "metadata": {},
   "outputs": [],
   "source": []
  },
  {
   "cell_type": "code",
   "execution_count": 164,
   "metadata": {},
   "outputs": [
    {
     "data": {
      "text/plain": [
       "dict_values([[['CBF-TRH200V', 'ハイエース', 'TRH200-0207441 ～ TRH200-0294277TRH200-5022655 ～ TRH200-5037767'], ['CBF-TRH200K', 'ハイエース', 'TRH200-0207441 ～ TRH200-0294277'], ['CBF-TRH200K改', 'ハイエース', 'TRH200-0207441 ～']]])"
      ]
     },
     "execution_count": 164,
     "metadata": {},
     "output_type": "execute_result"
    }
   ],
   "source": [
    "d.values()"
   ]
  }
 ],
 "metadata": {
  "kernelspec": {
   "display_name": "Python 3",
   "language": "python",
   "name": "python3"
  },
  "language_info": {
   "codemirror_mode": {
    "name": "ipython",
    "version": 3
   },
   "file_extension": ".py",
   "mimetype": "text/x-python",
   "name": "python",
   "nbconvert_exporter": "python",
   "pygments_lexer": "ipython3",
   "version": "3.7.4"
  }
 },
 "nbformat": 4,
 "nbformat_minor": 2
}
